{
 "cells": [
  {
   "cell_type": "markdown",
   "id": "5d8b0646-5d87-43e5-b8e5-20a06ef39bf9",
   "metadata": {},
   "source": [
    "### Basic Imports"
   ]
  },
  {
   "cell_type": "code",
   "execution_count": 2,
   "id": "e4698e61-a0fb-470a-8600-be77b9707143",
   "metadata": {
    "execution": {
     "iopub.execute_input": "2024-01-15T01:33:00.475439Z",
     "iopub.status.busy": "2024-01-15T01:33:00.474922Z",
     "iopub.status.idle": "2024-01-15T01:33:02.068519Z",
     "shell.execute_reply": "2024-01-15T01:33:02.067641Z",
     "shell.execute_reply.started": "2024-01-15T01:33:00.475411Z"
    },
    "tags": []
   },
   "outputs": [],
   "source": [
    "import argparse\n",
    "import functools\n",
    "import csv\n",
    "from macls.predict import MAClsPredictor\n",
    "from macls.utils.utils import add_arguments, print_arguments"
   ]
  },
  {
   "cell_type": "markdown",
   "id": "3d880dc5-0da1-4320-b6f7-cf127bdb82fb",
   "metadata": {},
   "source": [
    "### hyper-parameters"
   ]
  },
  {
   "cell_type": "code",
   "execution_count": 3,
   "id": "2a73395a-187b-4ada-b6f5-a1c825490b28",
   "metadata": {
    "execution": {
     "iopub.execute_input": "2024-01-15T01:33:06.082025Z",
     "iopub.status.busy": "2024-01-15T01:33:06.081665Z",
     "iopub.status.idle": "2024-01-15T01:33:06.086367Z",
     "shell.execute_reply": "2024-01-15T01:33:06.085304Z",
     "shell.execute_reply.started": "2024-01-15T01:33:06.082002Z"
    },
    "tags": []
   },
   "outputs": [],
   "source": [
    "configs = 'configs/cam++.yml' # 'configs/cam++.yml'\n",
    "model_path = 'models/CAMPPlus_Fbank/best_model/' #导出的预测模型文件路径 可选择CAM++: 'models/CAMPPlus_Fbank/best_model/'\n",
    "use_gpu = True # 是否使用gpu"
   ]
  },
  {
   "cell_type": "markdown",
   "id": "2553f67b-f6a4-4ee9-bffc-6c09ae1ddd53",
   "metadata": {},
   "source": [
    "### predict"
   ]
  },
  {
   "cell_type": "code",
   "execution_count": 4,
   "id": "823054a0-46d2-4548-ad62-df72154e3f10",
   "metadata": {
    "execution": {
     "iopub.execute_input": "2024-01-15T01:33:06.451508Z",
     "iopub.status.busy": "2024-01-15T01:33:06.451119Z",
     "iopub.status.idle": "2024-01-15T01:33:07.069222Z",
     "shell.execute_reply": "2024-01-15T01:33:07.068295Z",
     "shell.execute_reply.started": "2024-01-15T01:33:06.451469Z"
    },
    "tags": []
   },
   "outputs": [
    {
     "name": "stdout",
     "output_type": "stream",
     "text": [
      "[\u001b[32m2024-01-15 01:33:06.566880\u001b[0m \u001b[1m\u001b[97mINFO   \u001b[0m] \u001b[36mutils\u001b[0m:\u001b[36mprint_arguments\u001b[0m:\u001b[36m19\u001b[0m - \u001b[1m\u001b[97m----------- 配置文件参数 -----------\u001b[0m\n",
      "[\u001b[32m2024-01-15 01:33:06.568245\u001b[0m \u001b[1m\u001b[97mINFO   \u001b[0m] \u001b[36mutils\u001b[0m:\u001b[36mprint_arguments\u001b[0m:\u001b[36m22\u001b[0m - \u001b[1m\u001b[97mdataset_conf:\u001b[0m\n",
      "[\u001b[32m2024-01-15 01:33:06.568973\u001b[0m \u001b[1m\u001b[97mINFO   \u001b[0m] \u001b[36mutils\u001b[0m:\u001b[36mprint_arguments\u001b[0m:\u001b[36m25\u001b[0m - \u001b[1m\u001b[97m\taug_conf:\u001b[0m\n",
      "[\u001b[32m2024-01-15 01:33:06.569682\u001b[0m \u001b[1m\u001b[97mINFO   \u001b[0m] \u001b[36mutils\u001b[0m:\u001b[36mprint_arguments\u001b[0m:\u001b[36m27\u001b[0m - \u001b[1m\u001b[97m\t\tnoise_aug_prob: 0.2\u001b[0m\n",
      "[\u001b[32m2024-01-15 01:33:06.570424\u001b[0m \u001b[1m\u001b[97mINFO   \u001b[0m] \u001b[36mutils\u001b[0m:\u001b[36mprint_arguments\u001b[0m:\u001b[36m27\u001b[0m - \u001b[1m\u001b[97m\t\tnoise_dir: /openbayes/input/input0/noise\u001b[0m\n",
      "[\u001b[32m2024-01-15 01:33:06.571045\u001b[0m \u001b[1m\u001b[97mINFO   \u001b[0m] \u001b[36mutils\u001b[0m:\u001b[36mprint_arguments\u001b[0m:\u001b[36m27\u001b[0m - \u001b[1m\u001b[97m\t\tspeed_perturb: True\u001b[0m\n",
      "[\u001b[32m2024-01-15 01:33:06.571656\u001b[0m \u001b[1m\u001b[97mINFO   \u001b[0m] \u001b[36mutils\u001b[0m:\u001b[36mprint_arguments\u001b[0m:\u001b[36m27\u001b[0m - \u001b[1m\u001b[97m\t\tvolume_aug_prob: 0.2\u001b[0m\n",
      "[\u001b[32m2024-01-15 01:33:06.572219\u001b[0m \u001b[1m\u001b[97mINFO   \u001b[0m] \u001b[36mutils\u001b[0m:\u001b[36mprint_arguments\u001b[0m:\u001b[36m27\u001b[0m - \u001b[1m\u001b[97m\t\tvolume_perturb: False\u001b[0m\n",
      "[\u001b[32m2024-01-15 01:33:06.572757\u001b[0m \u001b[1m\u001b[97mINFO   \u001b[0m] \u001b[36mutils\u001b[0m:\u001b[36mprint_arguments\u001b[0m:\u001b[36m25\u001b[0m - \u001b[1m\u001b[97m\tdataLoader:\u001b[0m\n",
      "[\u001b[32m2024-01-15 01:33:06.573294\u001b[0m \u001b[1m\u001b[97mINFO   \u001b[0m] \u001b[36mutils\u001b[0m:\u001b[36mprint_arguments\u001b[0m:\u001b[36m27\u001b[0m - \u001b[1m\u001b[97m\t\tbatch_size: 64\u001b[0m\n",
      "[\u001b[32m2024-01-15 01:33:06.573822\u001b[0m \u001b[1m\u001b[97mINFO   \u001b[0m] \u001b[36mutils\u001b[0m:\u001b[36mprint_arguments\u001b[0m:\u001b[36m27\u001b[0m - \u001b[1m\u001b[97m\t\tnum_workers: 4\u001b[0m\n",
      "[\u001b[32m2024-01-15 01:33:06.574339\u001b[0m \u001b[1m\u001b[97mINFO   \u001b[0m] \u001b[36mutils\u001b[0m:\u001b[36mprint_arguments\u001b[0m:\u001b[36m29\u001b[0m - \u001b[1m\u001b[97m\tdo_vad: False\u001b[0m\n",
      "[\u001b[32m2024-01-15 01:33:06.574870\u001b[0m \u001b[1m\u001b[97mINFO   \u001b[0m] \u001b[36mutils\u001b[0m:\u001b[36mprint_arguments\u001b[0m:\u001b[36m25\u001b[0m - \u001b[1m\u001b[97m\teval_conf:\u001b[0m\n",
      "[\u001b[32m2024-01-15 01:33:06.575402\u001b[0m \u001b[1m\u001b[97mINFO   \u001b[0m] \u001b[36mutils\u001b[0m:\u001b[36mprint_arguments\u001b[0m:\u001b[36m27\u001b[0m - \u001b[1m\u001b[97m\t\tbatch_size: 64\u001b[0m\n",
      "[\u001b[32m2024-01-15 01:33:06.575921\u001b[0m \u001b[1m\u001b[97mINFO   \u001b[0m] \u001b[36mutils\u001b[0m:\u001b[36mprint_arguments\u001b[0m:\u001b[36m27\u001b[0m - \u001b[1m\u001b[97m\t\tmax_duration: 10\u001b[0m\n",
      "[\u001b[32m2024-01-15 01:33:06.576444\u001b[0m \u001b[1m\u001b[97mINFO   \u001b[0m] \u001b[36mutils\u001b[0m:\u001b[36mprint_arguments\u001b[0m:\u001b[36m29\u001b[0m - \u001b[1m\u001b[97m\tlabel_list_path: /openbayes/home/label_list.txt\u001b[0m\n",
      "[\u001b[32m2024-01-15 01:33:06.576945\u001b[0m \u001b[1m\u001b[97mINFO   \u001b[0m] \u001b[36mutils\u001b[0m:\u001b[36mprint_arguments\u001b[0m:\u001b[36m29\u001b[0m - \u001b[1m\u001b[97m\tmax_duration: 3\u001b[0m\n",
      "[\u001b[32m2024-01-15 01:33:06.577455\u001b[0m \u001b[1m\u001b[97mINFO   \u001b[0m] \u001b[36mutils\u001b[0m:\u001b[36mprint_arguments\u001b[0m:\u001b[36m29\u001b[0m - \u001b[1m\u001b[97m\tmin_duration: 0.5\u001b[0m\n",
      "[\u001b[32m2024-01-15 01:33:06.577990\u001b[0m \u001b[1m\u001b[97mINFO   \u001b[0m] \u001b[36mutils\u001b[0m:\u001b[36mprint_arguments\u001b[0m:\u001b[36m29\u001b[0m - \u001b[1m\u001b[97m\tsample_rate: 16000\u001b[0m\n",
      "[\u001b[32m2024-01-15 01:33:06.578491\u001b[0m \u001b[1m\u001b[97mINFO   \u001b[0m] \u001b[36mutils\u001b[0m:\u001b[36mprint_arguments\u001b[0m:\u001b[36m25\u001b[0m - \u001b[1m\u001b[97m\tspec_aug_args:\u001b[0m\n",
      "[\u001b[32m2024-01-15 01:33:06.579015\u001b[0m \u001b[1m\u001b[97mINFO   \u001b[0m] \u001b[36mutils\u001b[0m:\u001b[36mprint_arguments\u001b[0m:\u001b[36m27\u001b[0m - \u001b[1m\u001b[97m\t\tfreq_mask_width: [0, 8]\u001b[0m\n",
      "[\u001b[32m2024-01-15 01:33:06.579596\u001b[0m \u001b[1m\u001b[97mINFO   \u001b[0m] \u001b[36mutils\u001b[0m:\u001b[36mprint_arguments\u001b[0m:\u001b[36m27\u001b[0m - \u001b[1m\u001b[97m\t\ttime_mask_width: [0, 10]\u001b[0m\n",
      "[\u001b[32m2024-01-15 01:33:06.580115\u001b[0m \u001b[1m\u001b[97mINFO   \u001b[0m] \u001b[36mutils\u001b[0m:\u001b[36mprint_arguments\u001b[0m:\u001b[36m29\u001b[0m - \u001b[1m\u001b[97m\ttarget_dB: -20\u001b[0m\n",
      "[\u001b[32m2024-01-15 01:33:06.580630\u001b[0m \u001b[1m\u001b[97mINFO   \u001b[0m] \u001b[36mutils\u001b[0m:\u001b[36mprint_arguments\u001b[0m:\u001b[36m29\u001b[0m - \u001b[1m\u001b[97m\ttest_list: /openbayes/home/test_list.txt\u001b[0m\n",
      "[\u001b[32m2024-01-15 01:33:06.581167\u001b[0m \u001b[1m\u001b[97mINFO   \u001b[0m] \u001b[36mutils\u001b[0m:\u001b[36mprint_arguments\u001b[0m:\u001b[36m29\u001b[0m - \u001b[1m\u001b[97m\ttrain_list: /openbayes/home/train_list.txt\u001b[0m\n",
      "[\u001b[32m2024-01-15 01:33:06.581660\u001b[0m \u001b[1m\u001b[97mINFO   \u001b[0m] \u001b[36mutils\u001b[0m:\u001b[36mprint_arguments\u001b[0m:\u001b[36m29\u001b[0m - \u001b[1m\u001b[97m\tuse_dB_normalization: True\u001b[0m\n",
      "[\u001b[32m2024-01-15 01:33:06.582159\u001b[0m \u001b[1m\u001b[97mINFO   \u001b[0m] \u001b[36mutils\u001b[0m:\u001b[36mprint_arguments\u001b[0m:\u001b[36m29\u001b[0m - \u001b[1m\u001b[97m\tuse_spec_aug: True\u001b[0m\n",
      "[\u001b[32m2024-01-15 01:33:06.582662\u001b[0m \u001b[1m\u001b[97mINFO   \u001b[0m] \u001b[36mutils\u001b[0m:\u001b[36mprint_arguments\u001b[0m:\u001b[36m22\u001b[0m - \u001b[1m\u001b[97mmodel_conf:\u001b[0m\n",
      "[\u001b[32m2024-01-15 01:33:06.583170\u001b[0m \u001b[1m\u001b[97mINFO   \u001b[0m] \u001b[36mutils\u001b[0m:\u001b[36mprint_arguments\u001b[0m:\u001b[36m29\u001b[0m - \u001b[1m\u001b[97m\tnum_class: None\u001b[0m\n",
      "[\u001b[32m2024-01-15 01:33:06.583714\u001b[0m \u001b[1m\u001b[97mINFO   \u001b[0m] \u001b[36mutils\u001b[0m:\u001b[36mprint_arguments\u001b[0m:\u001b[36m22\u001b[0m - \u001b[1m\u001b[97moptimizer_conf:\u001b[0m\n",
      "[\u001b[32m2024-01-15 01:33:06.584244\u001b[0m \u001b[1m\u001b[97mINFO   \u001b[0m] \u001b[36mutils\u001b[0m:\u001b[36mprint_arguments\u001b[0m:\u001b[36m29\u001b[0m - \u001b[1m\u001b[97m\tlearning_rate: 0.001\u001b[0m\n",
      "[\u001b[32m2024-01-15 01:33:06.584753\u001b[0m \u001b[1m\u001b[97mINFO   \u001b[0m] \u001b[36mutils\u001b[0m:\u001b[36mprint_arguments\u001b[0m:\u001b[36m29\u001b[0m - \u001b[1m\u001b[97m\toptimizer: Adam\u001b[0m\n",
      "[\u001b[32m2024-01-15 01:33:06.585252\u001b[0m \u001b[1m\u001b[97mINFO   \u001b[0m] \u001b[36mutils\u001b[0m:\u001b[36mprint_arguments\u001b[0m:\u001b[36m29\u001b[0m - \u001b[1m\u001b[97m\tscheduler: WarmupCosineSchedulerLR\u001b[0m\n",
      "[\u001b[32m2024-01-15 01:33:06.585762\u001b[0m \u001b[1m\u001b[97mINFO   \u001b[0m] \u001b[36mutils\u001b[0m:\u001b[36mprint_arguments\u001b[0m:\u001b[36m25\u001b[0m - \u001b[1m\u001b[97m\tscheduler_args:\u001b[0m\n",
      "[\u001b[32m2024-01-15 01:33:06.586275\u001b[0m \u001b[1m\u001b[97mINFO   \u001b[0m] \u001b[36mutils\u001b[0m:\u001b[36mprint_arguments\u001b[0m:\u001b[36m27\u001b[0m - \u001b[1m\u001b[97m\t\tmax_lr: 0.001\u001b[0m\n",
      "[\u001b[32m2024-01-15 01:33:06.586780\u001b[0m \u001b[1m\u001b[97mINFO   \u001b[0m] \u001b[36mutils\u001b[0m:\u001b[36mprint_arguments\u001b[0m:\u001b[36m27\u001b[0m - \u001b[1m\u001b[97m\t\tmin_lr: 1e-05\u001b[0m\n",
      "[\u001b[32m2024-01-15 01:33:06.587276\u001b[0m \u001b[1m\u001b[97mINFO   \u001b[0m] \u001b[36mutils\u001b[0m:\u001b[36mprint_arguments\u001b[0m:\u001b[36m27\u001b[0m - \u001b[1m\u001b[97m\t\twarmup_epoch: 5\u001b[0m\n",
      "[\u001b[32m2024-01-15 01:33:06.587837\u001b[0m \u001b[1m\u001b[97mINFO   \u001b[0m] \u001b[36mutils\u001b[0m:\u001b[36mprint_arguments\u001b[0m:\u001b[36m29\u001b[0m - \u001b[1m\u001b[97m\tweight_decay: 1e-06\u001b[0m\n",
      "[\u001b[32m2024-01-15 01:33:06.588359\u001b[0m \u001b[1m\u001b[97mINFO   \u001b[0m] \u001b[36mutils\u001b[0m:\u001b[36mprint_arguments\u001b[0m:\u001b[36m22\u001b[0m - \u001b[1m\u001b[97mpreprocess_conf:\u001b[0m\n",
      "[\u001b[32m2024-01-15 01:33:06.588870\u001b[0m \u001b[1m\u001b[97mINFO   \u001b[0m] \u001b[36mutils\u001b[0m:\u001b[36mprint_arguments\u001b[0m:\u001b[36m29\u001b[0m - \u001b[1m\u001b[97m\tfeature_method: Fbank\u001b[0m\n",
      "[\u001b[32m2024-01-15 01:33:06.589395\u001b[0m \u001b[1m\u001b[97mINFO   \u001b[0m] \u001b[36mutils\u001b[0m:\u001b[36mprint_arguments\u001b[0m:\u001b[36m25\u001b[0m - \u001b[1m\u001b[97m\tmethod_args:\u001b[0m\n",
      "[\u001b[32m2024-01-15 01:33:06.589889\u001b[0m \u001b[1m\u001b[97mINFO   \u001b[0m] \u001b[36mutils\u001b[0m:\u001b[36mprint_arguments\u001b[0m:\u001b[36m27\u001b[0m - \u001b[1m\u001b[97m\t\tnum_mel_bins: 80\u001b[0m\n",
      "[\u001b[32m2024-01-15 01:33:06.590423\u001b[0m \u001b[1m\u001b[97mINFO   \u001b[0m] \u001b[36mutils\u001b[0m:\u001b[36mprint_arguments\u001b[0m:\u001b[36m27\u001b[0m - \u001b[1m\u001b[97m\t\tsample_frequency: 16000\u001b[0m\n",
      "[\u001b[32m2024-01-15 01:33:06.590918\u001b[0m \u001b[1m\u001b[97mINFO   \u001b[0m] \u001b[36mutils\u001b[0m:\u001b[36mprint_arguments\u001b[0m:\u001b[36m22\u001b[0m - \u001b[1m\u001b[97mtrain_conf:\u001b[0m\n",
      "[\u001b[32m2024-01-15 01:33:06.591441\u001b[0m \u001b[1m\u001b[97mINFO   \u001b[0m] \u001b[36mutils\u001b[0m:\u001b[36mprint_arguments\u001b[0m:\u001b[36m29\u001b[0m - \u001b[1m\u001b[97m\tenable_amp: False\u001b[0m\n",
      "[\u001b[32m2024-01-15 01:33:06.591991\u001b[0m \u001b[1m\u001b[97mINFO   \u001b[0m] \u001b[36mutils\u001b[0m:\u001b[36mprint_arguments\u001b[0m:\u001b[36m29\u001b[0m - \u001b[1m\u001b[97m\tlog_interval: 10\u001b[0m\n",
      "[\u001b[32m2024-01-15 01:33:06.592499\u001b[0m \u001b[1m\u001b[97mINFO   \u001b[0m] \u001b[36mutils\u001b[0m:\u001b[36mprint_arguments\u001b[0m:\u001b[36m29\u001b[0m - \u001b[1m\u001b[97m\tloss_weight: None\u001b[0m\n",
      "[\u001b[32m2024-01-15 01:33:06.593019\u001b[0m \u001b[1m\u001b[97mINFO   \u001b[0m] \u001b[36mutils\u001b[0m:\u001b[36mprint_arguments\u001b[0m:\u001b[36m29\u001b[0m - \u001b[1m\u001b[97m\tmax_epoch: 60\u001b[0m\n",
      "[\u001b[32m2024-01-15 01:33:06.593528\u001b[0m \u001b[1m\u001b[97mINFO   \u001b[0m] \u001b[36mutils\u001b[0m:\u001b[36mprint_arguments\u001b[0m:\u001b[36m29\u001b[0m - \u001b[1m\u001b[97m\tuse_compile: False\u001b[0m\n",
      "[\u001b[32m2024-01-15 01:33:06.594036\u001b[0m \u001b[1m\u001b[97mINFO   \u001b[0m] \u001b[36mutils\u001b[0m:\u001b[36mprint_arguments\u001b[0m:\u001b[36m31\u001b[0m - \u001b[1m\u001b[97muse_model: CAMPPlus\u001b[0m\n",
      "[\u001b[32m2024-01-15 01:33:06.594517\u001b[0m \u001b[1m\u001b[97mINFO   \u001b[0m] \u001b[36mutils\u001b[0m:\u001b[36mprint_arguments\u001b[0m:\u001b[36m32\u001b[0m - \u001b[1m\u001b[97m------------------------------------------------\u001b[0m\n",
      "成功加载模型参数：models/CAMPPlus_Fbank/best_model/model.pth\n"
     ]
    }
   ],
   "source": [
    "predictor = MAClsPredictor(configs=configs,\n",
    "                           model_path=model_path,\n",
    "                           use_gpu=use_gpu)"
   ]
  },
  {
   "cell_type": "code",
   "execution_count": 5,
   "id": "f1a65346-f2f7-4512-855b-41948ae41ac7",
   "metadata": {
    "execution": {
     "iopub.execute_input": "2024-01-15T01:33:07.070723Z",
     "iopub.status.busy": "2024-01-15T01:33:07.070497Z",
     "iopub.status.idle": "2024-01-15T01:34:40.268068Z",
     "shell.execute_reply": "2024-01-15T01:34:40.267289Z",
     "shell.execute_reply.started": "2024-01-15T01:33:07.070704Z"
    },
    "tags": []
   },
   "outputs": [],
   "source": [
    "file_path = '/openbayes/home/CAM++/test_list.txt'\n",
    "title = []\n",
    "\n",
    "with open(file_path, 'r') as file:\n",
    "    # 逐行读取文件内容\n",
    "    for line in file:\n",
    "        # 使用制表符 '\\t' 分割每一行的元素\n",
    "        elements = line.strip().split('\\t')\n",
    "        \n",
    "        # 获取每一行的第一个元素\n",
    "        first_element = elements[0]\n",
    "        # 打印或处理第一个元素\n",
    "        title.append(first_element)\n",
    "final = []         \n",
    "predict = []\n",
    "            \n",
    "for i in range(len(title)): \n",
    "    try:\n",
    "        label, score = predictor.predict(audio_data=title[i])\n",
    "            # 打印或处理预测结果\n",
    "        # print(f'音频：{title[i]} 的预测结果标签为：{label}，得分：{score}')\n",
    "        predict.append(label)\n",
    "        final.append(title[i])\n",
    "    except AssertionError as e:\n",
    "        continue\n"
   ]
  },
  {
   "cell_type": "markdown",
   "id": "4146d3af-f0e7-4b5f-935d-67a1f9959afc",
   "metadata": {},
   "source": [
    "### Essential Defs"
   ]
  },
  {
   "cell_type": "code",
   "execution_count": 6,
   "id": "9fe41dfb-415a-4279-88a8-0cb35f8bd73f",
   "metadata": {
    "execution": {
     "iopub.execute_input": "2024-01-15T01:34:40.269276Z",
     "iopub.status.busy": "2024-01-15T01:34:40.269075Z",
     "iopub.status.idle": "2024-01-15T01:34:40.275041Z",
     "shell.execute_reply": "2024-01-15T01:34:40.274602Z",
     "shell.execute_reply.started": "2024-01-15T01:34:40.269255Z"
    },
    "tags": []
   },
   "outputs": [],
   "source": [
    "# 数据\n",
    "def cut_name(name):\n",
    "    c = 0\n",
    "    for i in range(len(name)):\n",
    "        if name[i] == \"/\":\n",
    "            c+=1\n",
    "            if c == 7:\n",
    "                return name[i+1:]\n",
    "    return None\n",
    "\n",
    "\n",
    "def read_csv_to_dict(file_path):\n",
    "    data_dict = {}\n",
    "    \n",
    "    with open(file_path, 'r') as csvfile:\n",
    "        reader = csv.reader(csvfile)\n",
    "        header = next(reader)  # 读取并保存第一行（表头）\n",
    "        \n",
    "    # 读取剩余行\n",
    "        rows = [row for row in reader]\n",
    "        for row in rows:\n",
    "            if row:  # 确保行不为空\n",
    "                key = row[0]  # 每行的第一个元素作为键\n",
    "                value = row[-2]  # 每行的倒数第二个元素作为值\n",
    "                data_dict[key] = value\n",
    "    \n",
    "    return data_dict"
   ]
  },
  {
   "cell_type": "markdown",
   "id": "e84e5d40-5f30-4bd8-94a2-d61b3a28b433",
   "metadata": {},
   "source": [
    "### output"
   ]
  },
  {
   "cell_type": "code",
   "execution_count": 7,
   "id": "cddc06eb-939f-49f0-a563-bda9781e3e0d",
   "metadata": {
    "execution": {
     "iopub.execute_input": "2024-01-15T01:34:40.276294Z",
     "iopub.status.busy": "2024-01-15T01:34:40.276131Z",
     "iopub.status.idle": "2024-01-15T01:34:40.293092Z",
     "shell.execute_reply": "2024-01-15T01:34:40.292668Z",
     "shell.execute_reply.started": "2024-01-15T01:34:40.276276Z"
    },
    "tags": []
   },
   "outputs": [
    {
     "name": "stdout",
     "output_type": "stream",
     "text": [
      "0.9543859649122807\n"
     ]
    }
   ],
   "source": [
    "csv_file_path = '/openbayes/home/CAM++/UrbanSound8K.csv'  \n",
    "result_dict = read_csv_to_dict(csv_file_path)\n",
    "dict_label = {\"air_conditioner\":0,\"car_horn\":1,\"children_playing\":2,\"dog_bark\":3,\"drilling\":4,\"engine_idling\":5,\"gun_shot\":6,\"jackhammer\":7,\"siren\":8,\"street_music\":9}\n",
    "\n",
    "\n",
    "count = 0 \n",
    "for i in range(len(predict)):\n",
    "\n",
    "    ID = str(dict_label[predict[i]])\n",
    "    name = cut_name(final[i])\n",
    "    if ID == result_dict[name]:\n",
    "        count += 1\n",
    "   \n",
    "print(count/len(predict))"
   ]
  }
 ],
 "metadata": {
  "kernelspec": {
   "display_name": "Python 3 (ipykernel)",
   "language": "python",
   "name": "python3"
  },
  "language_info": {
   "codemirror_mode": {
    "name": "ipython",
    "version": 3
   },
   "file_extension": ".py",
   "mimetype": "text/x-python",
   "name": "python",
   "nbconvert_exporter": "python",
   "pygments_lexer": "ipython3",
   "version": "3.8.18"
  }
 },
 "nbformat": 4,
 "nbformat_minor": 5
}
